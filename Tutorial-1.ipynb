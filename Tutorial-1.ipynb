{
 "metadata": {
  "kernelspec": {
   "name": "python3",
   "language": "python",
   "display_name": "Python 3 (ipykernel)"
  },
  "language_info": {
   "codemirror_mode": {
    "name": "python",
    "version": 3
   },
   "file_extension": ".py",
   "mimetype": "text/x-python",
   "name": "python",
   "nbconvert_exporter": "python",
   "pygments_lexer": "ipython3",
   "version": "3.8"
  }
 },
 "nbformat_minor": 5,
 "nbformat": 4,
 "cells": [
  {
   "cell_type": "code",
   "execution_count": null,
   "outputs": [],
   "source": [],
   "metadata": {
    "collapsed": false,
    "pycharm": {
     "name": "#%%\n"
    }
   }
  },
  {
   "cell_type": "markdown",
   "source": [
    "# Introduction to the Survival Analysis\n",
    "\n",
    "This is a short introduction to how to use statistical methods with survival analysis with TCGA breast cancer data.\n",
    "\n",
    "\n",
    "## Methods\n",
    "\n",
    "\n",
    "> **See Also**: For a more in-depth tour about statistical methods you can visit the following links:\n",
    "\n",
    "\n",
    "## Data\n",
    "\n",
    "- For this tutorial we will use two techniques to divide data into training and validation with TCGA data:\n",
    "    - Bootstrap resampling\n",
    "    - Cross validation\n",
    "    -- k-folds\n",
    "    -- Stratified k-folds\n",
    "- The data we are going to use is right censored which means not all patients deceased\n",
    "\n",
    "> For **python** libraries:\n",
    "> - lifelines\n",
    "> -  sklearn\n"
   ],
   "metadata": {
    "collapsed": false
   }
  },
  {
   "cell_type": "code",
   "execution_count": null,
   "outputs": [],
   "source": [
    "import pandas as pd\n",
    "from sklearn.preprocessing import LabelEncoder\n",
    "import matplotlib.pyplot as plt\n",
    "from lifelines import KaplanMeierFitter\n",
    "from lifelines.statistics import logrank_test\n",
    "from lifelines import CoxPHFitter\n",
    "import numpy as np\n",
    "from sklearn.model_selection import StratifiedKFold"
   ],
   "metadata": {
    "collapsed": false,
    "pycharm": {
     "name": "#%%\n",
     "is_executing": true
    }
   }
  },
  {
   "cell_type": "markdown",
   "source": [
    "Load data from CSV file with 1083 breast cancer patients from TCGA"
   ],
   "metadata": {
    "collapsed": false,
    "pycharm": {
     "name": "#%% md\n"
    }
   }
  },
  {
   "cell_type": "code",
   "execution_count": null,
   "outputs": [],
   "source": [
    "df = pd.read_csv('Dataset/BRCA_TCGA_Tutorial.csv')\n",
    "df.head()\n",
    "print(len(df))"
   ],
   "metadata": {
    "collapsed": false,
    "pycharm": {
     "name": "#%%\n",
     "is_executing": true
    }
   }
  },
  {
   "cell_type": "code",
   "source": [
    "# Look at the categorical and numerical variables\n",
    "summary_categorical = []\n",
    "for column in df.columns:\n",
    "  if df[column].dtype == object:\n",
    "    summary_categorical.append(column)\n",
    "    print(df[column].value_counts())\n",
    "    print(f\"----------------------------------\")\n",
    "\n",
    "summary_numerical = []\n",
    "for column in df.columns:\n",
    "  if df[column].dtype != object:\n",
    "    print(f\"{column} : Minimum: {min((df[column].unique()))}, Maximum: {max((df[column].unique()))} \")\n",
    "    summary_numerical.append(column)\n",
    "    print(f\"----------------------------------\")"
   ],
   "metadata": {
    "collapsed": false,
    "pycharm": {
     "name": "#%%\n",
     "is_executing": true
    }
   },
   "execution_count": null,
   "outputs": []
  },
  {
   "cell_type": "code",
   "execution_count": null,
   "outputs": [],
   "source": [
    "# Convert all string categorical variables into integer labels\n",
    "encoder = LabelEncoder()\n",
    "for column in df.columns:\n",
    "  if df[column].dtype == object:\n",
    "    df[column] = encoder.fit_transform(df[column])"
   ],
   "metadata": {
    "collapsed": false,
    "pycharm": {
     "name": "#%%\n",
     "is_executing": true
    }
   }
  },
  {
   "cell_type": "markdown",
   "source": [
    "# Kaplan-Meier Estimator"
   ],
   "metadata": {
    "collapsed": false,
    "pycharm": {
     "name": "#%% md\n"
    }
   }
  },
  {
   "cell_type": "code",
   "execution_count": null,
   "outputs": [],
   "source": [
    "# here to specify which event we will make our study about OS or PFI etc.\n",
    "event = 'OS'\n",
    "time = 'OS Time'\n",
    "# remove the rows with NaNs\n",
    "print(len(df))\n",
    "df_surv = df.dropna(subset=[event, time])\n",
    "print(len(df_surv))"
   ],
   "metadata": {
    "collapsed": false,
    "pycharm": {
     "name": "#%%\n",
     "is_executing": true
    }
   }
  },
  {
   "cell_type": "code",
   "execution_count": null,
   "outputs": [],
   "source": [
    "kmf = KaplanMeierFitter()\n",
    "kmf.fit(durations=df_surv[time], event_observed=df_surv[event])\n",
    "\n",
    "kmf.survival_function_.plot(figsize=(8,5))\n",
    "plt.title('Survival Curve estimated with Kaplan-Meier Fitter')\n",
    "plt.show()\n",
    "\n",
    "kmf.plot_survival_function(figsize=(8,5))\n",
    "plt.title('Survival Curve estimated with Kaplan-Meier Fitter with confidence intervals')\n",
    "plt.show()\n"
   ],
   "metadata": {
    "collapsed": false,
    "pycharm": {
     "name": "#%%\n",
     "is_executing": true
    }
   }
  },
  {
   "cell_type": "code",
   "execution_count": null,
   "outputs": [],
   "source": [
    "# here is to show the KM estimated survival scores based on OS\n",
    "print(kmf.survival_function_)"
   ],
   "metadata": {
    "collapsed": false,
    "pycharm": {
     "name": "#%%\n",
     "is_executing": true
    }
   }
  },
  {
   "cell_type": "markdown",
   "source": [
    "## Survival Function of Different Groups"
   ],
   "metadata": {
    "collapsed": false,
    "pycharm": {
     "name": "#%% md\n"
    }
   }
  },
  {
   "cell_type": "code",
   "execution_count": null,
   "outputs": [],
   "source": [
    "print(df_surv['Immune Subtype'].value_counts())\n",
    "df_surv['Immune Subtype'].hist()"
   ],
   "metadata": {
    "collapsed": false,
    "pycharm": {
     "name": "#%%\n",
     "is_executing": true
    }
   }
  },
  {
   "cell_type": "code",
   "execution_count": null,
   "outputs": [],
   "source": [
    "Patient_C1 = (df_surv['Immune Subtype'] == 0)\n",
    "Patient_C2 = (df_surv['Immune Subtype'] == 1)\n",
    "Patient_C3 = (df_surv['Immune Subtype'] == 2)\n",
    "Patient_C4 = (df_surv['Immune Subtype'] == 3)\n",
    "Patient_C6 = (df_surv['Immune Subtype'] == 4)\n",
    "\n",
    "ax = plt.subplot()\n",
    "kmf = KaplanMeierFitter()\n",
    "\n",
    "kmf.fit(durations=df_surv[Patient_C1][time],\n",
    "        event_observed=df_surv[Patient_C1][event],\n",
    "        label='C1')\n",
    "kmf.survival_function_.plot(figsize=(8,5), ax=ax)\n",
    "\n",
    "kmf.fit(durations=df_surv[Patient_C2][time],\n",
    "        event_observed=df_surv[Patient_C2][event],\n",
    "        label='C2')\n",
    "kmf.survival_function_.plot(figsize=(8,5), ax=ax)\n",
    "\n",
    "kmf.fit(durations=df_surv[Patient_C3][time],\n",
    "        event_observed=df_surv[Patient_C3][event],\n",
    "        label='C3')\n",
    "kmf.survival_function_.plot(figsize=(8,5), ax=ax)\n",
    "\n",
    "kmf.fit(durations=df_surv[Patient_C4][time],\n",
    "        event_observed=df_surv[Patient_C4][event],\n",
    "        label='C4')\n",
    "kmf.survival_function_.plot(figsize=(8,5), ax=ax)\n",
    "\n",
    "kmf.fit(durations=df_surv[Patient_C6][time],\n",
    "        event_observed=df_surv[Patient_C6][event],\n",
    "        label='C6')\n",
    "kmf.survival_function_.plot(figsize=(8,5), ax=ax)\n",
    "plt.title('Survival Function based on Immune Subtype')\n",
    "plt.show()\n"
   ],
   "metadata": {
    "collapsed": false,
    "pycharm": {
     "name": "#%%\n",
     "is_executing": true
    }
   }
  },
  {
   "cell_type": "code",
   "execution_count": null,
   "outputs": [],
   "source": [
    "df['TCGA Subtype'].hist()"
   ],
   "metadata": {
    "collapsed": false,
    "pycharm": {
     "name": "#%%\n",
     "is_executing": true
    }
   }
  },
  {
   "cell_type": "code",
   "execution_count": null,
   "outputs": [],
   "source": [
    "Patient_BRCA_LumA = (df_surv['TCGA Subtype'] == 2)\n",
    "Patient_BRCA_LumB = (df_surv['TCGA Subtype'] == 3)\n",
    "Patient_BRCA_Basal = (df_surv['TCGA Subtype'] == 0)\n",
    "Patient_BRCA_Normal = (df_surv['TCGA Subtype'] == 4)\n",
    "Patient_Her2 = (df_surv['TCGA Subtype'] == 1)\n",
    "\n",
    "\n",
    "ax = plt.subplot()\n",
    "kmf = KaplanMeierFitter()\n",
    "\n",
    "kmf.fit(durations=df_surv[Patient_BRCA_LumA][time],\n",
    "        event_observed=df_surv[Patient_BRCA_LumA][event],\n",
    "        label='BRCA LumA')\n",
    "kmf.survival_function_.plot(figsize=(8,5), ax=ax)\n",
    "\n",
    "kmf.fit(durations=df_surv[Patient_BRCA_LumB][time],\n",
    "        event_observed=df_surv[Patient_BRCA_LumB][event],\n",
    "        label='BRCA LumB')\n",
    "kmf.survival_function_.plot(figsize=(8,5), ax=ax)\n",
    "\n",
    "kmf.fit(durations=df_surv[Patient_BRCA_Basal][time],\n",
    "        event_observed=df_surv[Patient_BRCA_Basal][event],\n",
    "        label='BRCA Basal')\n",
    "kmf.survival_function_.plot(figsize=(8,5), ax=ax)\n",
    "\n",
    "kmf.fit(durations=df_surv[Patient_BRCA_Normal][time],\n",
    "        event_observed=df_surv[Patient_BRCA_Normal][event],\n",
    "        label='BRCA Normal')\n",
    "kmf.survival_function_.plot(figsize=(8,5), ax=ax)\n",
    "\n",
    "kmf.fit(durations=df_surv[Patient_Her2][time],\n",
    "        event_observed=df_surv[Patient_Her2][event],\n",
    "        label='Her2')\n",
    "kmf.survival_function_.plot(figsize=(8,5), ax=ax)\n",
    "plt.title('Survival Function based on TCGA Subtype')\n",
    "plt.show()\n"
   ],
   "metadata": {
    "collapsed": false,
    "pycharm": {
     "name": "#%%\n",
     "is_executing": true
    }
   }
  },
  {
   "cell_type": "code",
   "execution_count": null,
   "outputs": [],
   "source": [
    "\n",
    "\n",
    "# to do the survival analysis with continuous variable\n",
    "# select a threshold based on different methods (mean, median, mode etc)\n",
    "feature = 'TIL Regional Fraction'\n",
    "df_variable = df.copy()\n",
    "\n",
    "print(len(df_variable))\n",
    "df_variable = df_variable.dropna(subset=[feature,time,event])\n",
    "threshold = df_variable[feature].median()\n",
    "print(len(df_variable))\n",
    "\n",
    "# to specify the time maximum range\n",
    "df_variable = df_variable[df_variable[time]<6000]\n",
    "\n",
    "print(\"The threshold value: {:.9f}\".format(threshold))\n",
    "\n",
    "Patient_group_1 = (df_variable[feature] >= threshold)\n",
    "Patient_group_2 = (df_variable[feature] < threshold)\n",
    "\n",
    "ax = plt.subplot()\n",
    "kmf = KaplanMeierFitter()\n",
    "\n",
    "\n",
    "kmf.fit(durations=df_variable[Patient_group_1][time],\n",
    "        event_observed=df_variable[Patient_group_1][event],\n",
    "        label=feature+' >= Threshold')\n",
    "kmf.survival_function_.plot(figsize=(8,5), ax=ax)\n",
    "\n",
    "kmf.fit(durations=df_variable[Patient_group_2][time],\n",
    "        event_observed=df_variable[Patient_group_2][event],\n",
    "        label=feature+' < Threshold')\n",
    "kmf.survival_function_.plot(figsize=(8,5), ax=ax)\n",
    "\n",
    "plt.title('Survival Function based on '+ feature+' median')\n",
    "plt.show()\n"
   ],
   "metadata": {
    "collapsed": false,
    "pycharm": {
     "name": "#%%\n",
     "is_executing": true
    }
   }
  },
  {
   "cell_type": "markdown",
   "source": [
    "## Log-rank Test"
   ],
   "metadata": {
    "collapsed": false,
    "pycharm": {
     "name": "#%% md\n"
    }
   }
  },
  {
   "cell_type": "code",
   "execution_count": null,
   "outputs": [],
   "source": [
    "results = logrank_test(df_surv[Patient_BRCA_LumA][time], df_surv[Patient_Her2][time],\n",
    "                       event_observed_A=df_surv[Patient_BRCA_LumA][event], event_observed_B=df_surv[Patient_Her2][event])\n",
    "\n",
    "print(\"p-value:{:.9f}\".format(results.p_value))\n",
    "print(\"test statistic:{:.2f}\".format(results.test_statistic))\n"
   ],
   "metadata": {
    "collapsed": false,
    "pycharm": {
     "name": "#%%\n",
     "is_executing": true
    }
   }
  },
  {
   "cell_type": "code",
   "execution_count": null,
   "outputs": [],
   "source": [
    "results = logrank_test(df_surv[Patient_BRCA_Basal][time], df_surv[Patient_BRCA_Normal][time],\n",
    "                       event_observed_A=df_surv[Patient_BRCA_Basal][event], event_observed_B=df_surv[Patient_BRCA_Normal][event])\n",
    "\n",
    "print(\"p-value:{:.9f}\".format(results.p_value))\n",
    "print(\"test statistic:{:.2f}\".format(results.test_statistic))"
   ],
   "metadata": {
    "collapsed": false,
    "pycharm": {
     "name": "#%%\n",
     "is_executing": true
    }
   }
  },
  {
   "cell_type": "markdown",
   "source": [
    "## Cox Proportional-Hazards Model\n",
    "A negative coefficient means that an increase in the value of the corresponding covariate is associated with a decreased hazard rate, implying a lower risk of experiencing the event. The Concordance Index evaluates the accuracy of the ordering of predicted time with random predictions <= 0.5 and perfect concordance of 1.0.\n"
   ],
   "metadata": {
    "collapsed": false,
    "pycharm": {
     "name": "#%% md\n"
    }
   }
  },
  {
   "cell_type": "code",
   "execution_count": null,
   "outputs": [],
   "source": [
    "# Prepare the dataframe for fitting\n",
    "columns_selected = ['Immune Subtype',\n",
    "                    'TCGA Subtype',\n",
    "                    'age',\n",
    "                    'stage',\n",
    "                    'Oncotree Code',\n",
    "                    'tumour_stage',\n",
    "                    'TIL Regional Fraction', time, event]\n",
    "df_cox = df.copy()\n",
    "df_cox = df_cox[columns_selected]\n",
    "print(len(df_cox))\n",
    "#clean the data from NaN values\n",
    "df_cox = df_cox.dropna(subset=columns_selected)\n",
    "print(len(df_cox))\n"
   ],
   "metadata": {
    "collapsed": false,
    "pycharm": {
     "name": "#%%\n",
     "is_executing": true
    }
   }
  },
  {
   "cell_type": "code",
   "execution_count": null,
   "outputs": [],
   "source": [
    "#initialize a fitter\n",
    "coxph = CoxPHFitter()\n",
    "\n",
    "# Fit Cox Proportional Hazards model on the selected data\n",
    "coxph.fit(df_cox,\n",
    "          duration_col=time,\n",
    "          event_col=event)"
   ],
   "metadata": {
    "collapsed": false,
    "pycharm": {
     "name": "#%%\n",
     "is_executing": true
    }
   }
  },
  {
   "cell_type": "code",
   "execution_count": null,
   "outputs": [],
   "source": [
    "# Print Cox Proportional Hazards model Summary\n",
    "# coxph.print_summary()\n",
    "# Print Cox Proportional Hazards model coefficient for each covariate\n",
    "print(pd.DataFrame({'Covariate': df_cox.drop([time, event], axis=1).columns, 'Coefficient': coxph.summary['coef'].values}))\n",
    "print(\"Concordance:{:.2f}\".format(coxph.concordance_index_ ))"
   ],
   "metadata": {
    "collapsed": false,
    "pycharm": {
     "name": "#%%\n",
     "is_executing": true
    }
   }
  },
  {
   "cell_type": "code",
   "execution_count": null,
   "outputs": [],
   "source": [
    "coxph.plot()"
   ],
   "metadata": {
    "collapsed": false,
    "pycharm": {
     "name": "#%%\n",
     "is_executing": true
    }
   }
  },
  {
   "cell_type": "markdown",
   "source": [
    "# 1. Bootstrap Resampling"
   ],
   "metadata": {
    "collapsed": false,
    "pycharm": {
     "name": "#%% md\n"
    }
   }
  },
  {
   "cell_type": "code",
   "execution_count": null,
   "outputs": [],
   "source": [
    "n_bootstrap = 10\n",
    "coefficients = []\n",
    "concordances = []\n",
    "\n",
    "# Loop through bootstrap runs\n",
    "for i in range(n_bootstrap):\n",
    "    # Bootstrap sampling with replacement\n",
    "    bootstrap_sample = df_cox.sample(frac=1.0, replace=True)\n",
    "\n",
    "    # Fit Cox Proportional Hazards model\n",
    "    cph = CoxPHFitter()\n",
    "    cph.fit(bootstrap_sample, duration_col=time, event_col=event)\n",
    "\n",
    "    # Store coefficients from the current run\n",
    "    coefficients.append(cph.summary['coef'].values)\n",
    "    concordances.append(cph.concordance_index_)\n",
    "\n",
    "# Calculate the average coefficients\n",
    "average_coefficients = np.mean(coefficients, axis=0)\n",
    "average_concordance = np.mean(concordances, axis=0)\n",
    "\n",
    "# Display the average coefficients\n",
    "print(\"Average Coefficients:\")\n",
    "print(pd.DataFrame({'Covariate': df_cox.drop([time, event], axis=1).columns, 'Coefficient': average_coefficients}))\n",
    "print(\"Average concordances:\")\n",
    "print(average_concordance)\n",
    "print(\"Standard deviation of concordances:\")\n",
    "print(np.std(average_concordance))"
   ],
   "metadata": {
    "collapsed": false,
    "pycharm": {
     "name": "#%%\n",
     "is_executing": true
    }
   }
  },
  {
   "cell_type": "markdown",
   "source": [
    "# Cross-validation (Stratified k-folds)"
   ],
   "metadata": {
    "collapsed": false,
    "pycharm": {
     "name": "#%% md\n"
    }
   }
  },
  {
   "cell_type": "code",
   "execution_count": null,
   "outputs": [],
   "source": [
    "cph_scores = []\n",
    "cph = CoxPHFitter()\n",
    "skf = StratifiedKFold(n_splits=10, shuffle=True)\n",
    "\n",
    "#loop over 10 folds which stratified based on the event\n",
    "for fold, (train_idx, test_idx) in enumerate(skf.split(df_cox, df_cox[event])):\n",
    "        #locate the indices of train and test in the original dataset with the selected covariances\n",
    "        train_set = df_cox.iloc[train_idx, :]\n",
    "        test_set = df_cox.iloc[test_idx, :]\n",
    "\n",
    "        # Fit Cox Proportional Hazards model\n",
    "        cph.fit(train_set, duration_col=time, event_col=event)\n",
    "\n",
    "        #do scoring with concordance index as a return value on test data using the trained model\n",
    "        cph_scores.append(cph.score(test_set, scoring_method='concordance_index'))\n",
    "\n",
    "print(np.mean(cph_scores), np.std(cph_scores))\n"
   ],
   "metadata": {
    "collapsed": false,
    "pycharm": {
     "name": "#%%\n",
     "is_executing": true
    }
   }
  }
 ]
}