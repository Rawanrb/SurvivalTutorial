{
 "metadata": {
  "kernelspec": {
   "name": "python3",
   "language": "python",
   "display_name": "Python 3 (ipykernel)"
  },
  "language_info": {
   "codemirror_mode": {
    "name": "python",
    "version": 3
   },
   "file_extension": ".py",
   "mimetype": "text/x-python",
   "name": "python",
   "nbconvert_exporter": "python",
   "pygments_lexer": "ipython3",
   "version": "3.8"
  }
 },
 "nbformat_minor": 5,
 "nbformat": 4,
 "cells": [
  {
   "cell_type": "code",
   "execution_count": 18,
   "outputs": [],
   "source": [],
   "metadata": {
    "collapsed": false,
    "pycharm": {
     "name": "#%%\n"
    }
   }
  },
  {
   "cell_type": "markdown",
   "source": [
    "# Introduction to the Survival Analysis\n",
    "\n",
    "This is a short introduction to how to use statistical methods with survival analysis.\n",
    "\n",
    "\n",
    "## Methods\n",
    "\n",
    "\n",
    "> **See Also**: For a more in-depth tour about statistical methods you can visit the following links:\n",
    "\n",
    "\n",
    "## Data\n",
    "\n",
    "- For this tutorial we will use two techniques to divide data into training and validation with TCGA data:\n",
    "    - Bootstrap resampling\n",
    "    - Cross validation\n",
    "    -- k-folds\n",
    "    -- Stratified k-folds\n",
    "- The data we are going to use is right censored which means not all patients deceased\n",
    "\n",
    "> For **python** libraries:\n",
    "> - lifelines\n"
   ],
   "metadata": {
    "collapsed": false
   }
  },
  {
   "cell_type": "code",
   "execution_count": 27,
   "outputs": [],
   "source": [
    "import pandas as pd\n",
    "from sklearn.preprocessing import LabelEncoder\n",
    "import numpy as np\n",
    "import seaborn as sns\n",
    "import matplotlib.pyplot as plt\n",
    "from lifelines import KaplanMeierFitter"
   ],
   "metadata": {
    "collapsed": false,
    "pycharm": {
     "name": "#%%\n"
    }
   }
  },
  {
   "cell_type": "markdown",
   "source": [
    "Load data from CSV file with 1083 breast cancer patients from TCGA"
   ],
   "metadata": {
    "collapsed": false,
    "pycharm": {
     "name": "#%% md\n"
    }
   }
  },
  {
   "cell_type": "code",
   "execution_count": 24,
   "outputs": [
    {
     "data": {
      "text/plain": "             ID  age       stage  aneuploidy_score  buffa_ hypoxia_score  \\\n0  TCGA-A2-A0CO   85   STAGE IIB               8.0                 -35.0   \n1  TCGA-A2-A0CZ   46   STAGE IIA               NaN                 -35.0   \n2  TCGA-A7-A4SF   54   STAGE IIA              22.0                  -5.0   \n3  TCGA-A8-A07R   80  STAGE IIIC              13.0                  35.0   \n4  TCGA-A8-A07S   73   STAGE IIA               5.0                 -25.0   \n\n                cancer_type_detailed  \\\n0  Breast Invasive Lobular Carcinoma   \n1   Breast Invasive Ductal Carcinoma   \n2   Breast Invasive Ductal Carcinoma   \n3   Breast Invasive Ductal Carcinoma   \n4    Breast Invasive Carcinoma (NOS)   \n\n   Last Communication Contact from Initial Pathologic Diagnosis Date  \\\n0                                             3409.0                   \n1                                             1616.0                   \n2                                              545.0                   \n3                                              273.0                   \n4                                              243.0                   \n\n   Birth from Initial Pathologic Diagnosis Date  Disease Free (Months)  \\\n0                                      -31404.0                    NaN   \n1                                      -17026.0                    NaN   \n2                                      -19985.0                    NaN   \n3                                      -29251.0                    NaN   \n4                                      -26998.0                    NaN   \n\n  Disease Free Status  ...  T Cells CD4 Memory Resting T Cells CD4 Naive  \\\n0                 NaN  ...                    0.228185               0.0   \n1                 NaN  ...                    0.104964               0.0   \n2                 NaN  ...                    0.120298               0.0   \n3                 NaN  ...                    0.042369               0.0   \n4                 NaN  ...                    0.100324               0.0   \n\n   T Cells CD8 T Cells Follicular Helper  T Cells gamma delta  \\\n0     0.143303                  0.116980                  0.0   \n1     0.071310                  0.040569                  0.0   \n2     0.065040                  0.061267                  0.0   \n3     0.036927                  0.052592                  0.0   \n4     0.054141                  0.062161                  0.0   \n\n   T Cells Regulatory Tregs  Lymphocytes Mast Cells Dendritic Cells  \\\n0                  0.067530     0.717376   0.023990        0.000000   \n1                  0.014379     0.392783   0.104896        0.000000   \n2                  0.067571     0.519102   0.077403        0.000000   \n3                  0.039751     0.352028   0.002378        0.097752   \n4                  0.010230     0.275265   0.151477        0.003782   \n\n   Macrophages  \n0     0.258634  \n1     0.502320  \n2     0.403495  \n3     0.529192  \n4     0.569475  \n\n[5 rows x 93 columns]",
      "text/html": "<div>\n<style scoped>\n    .dataframe tbody tr th:only-of-type {\n        vertical-align: middle;\n    }\n\n    .dataframe tbody tr th {\n        vertical-align: top;\n    }\n\n    .dataframe thead th {\n        text-align: right;\n    }\n</style>\n<table border=\"1\" class=\"dataframe\">\n  <thead>\n    <tr style=\"text-align: right;\">\n      <th></th>\n      <th>ID</th>\n      <th>age</th>\n      <th>stage</th>\n      <th>aneuploidy_score</th>\n      <th>buffa_ hypoxia_score</th>\n      <th>cancer_type_detailed</th>\n      <th>Last Communication Contact from Initial Pathologic Diagnosis Date</th>\n      <th>Birth from Initial Pathologic Diagnosis Date</th>\n      <th>Disease Free (Months)</th>\n      <th>Disease Free Status</th>\n      <th>...</th>\n      <th>T Cells CD4 Memory Resting</th>\n      <th>T Cells CD4 Naive</th>\n      <th>T Cells CD8</th>\n      <th>T Cells Follicular Helper</th>\n      <th>T Cells gamma delta</th>\n      <th>T Cells Regulatory Tregs</th>\n      <th>Lymphocytes</th>\n      <th>Mast Cells</th>\n      <th>Dendritic Cells</th>\n      <th>Macrophages</th>\n    </tr>\n  </thead>\n  <tbody>\n    <tr>\n      <th>0</th>\n      <td>TCGA-A2-A0CO</td>\n      <td>85</td>\n      <td>STAGE IIB</td>\n      <td>8.0</td>\n      <td>-35.0</td>\n      <td>Breast Invasive Lobular Carcinoma</td>\n      <td>3409.0</td>\n      <td>-31404.0</td>\n      <td>NaN</td>\n      <td>NaN</td>\n      <td>...</td>\n      <td>0.228185</td>\n      <td>0.0</td>\n      <td>0.143303</td>\n      <td>0.116980</td>\n      <td>0.0</td>\n      <td>0.067530</td>\n      <td>0.717376</td>\n      <td>0.023990</td>\n      <td>0.000000</td>\n      <td>0.258634</td>\n    </tr>\n    <tr>\n      <th>1</th>\n      <td>TCGA-A2-A0CZ</td>\n      <td>46</td>\n      <td>STAGE IIA</td>\n      <td>NaN</td>\n      <td>-35.0</td>\n      <td>Breast Invasive Ductal Carcinoma</td>\n      <td>1616.0</td>\n      <td>-17026.0</td>\n      <td>NaN</td>\n      <td>NaN</td>\n      <td>...</td>\n      <td>0.104964</td>\n      <td>0.0</td>\n      <td>0.071310</td>\n      <td>0.040569</td>\n      <td>0.0</td>\n      <td>0.014379</td>\n      <td>0.392783</td>\n      <td>0.104896</td>\n      <td>0.000000</td>\n      <td>0.502320</td>\n    </tr>\n    <tr>\n      <th>2</th>\n      <td>TCGA-A7-A4SF</td>\n      <td>54</td>\n      <td>STAGE IIA</td>\n      <td>22.0</td>\n      <td>-5.0</td>\n      <td>Breast Invasive Ductal Carcinoma</td>\n      <td>545.0</td>\n      <td>-19985.0</td>\n      <td>NaN</td>\n      <td>NaN</td>\n      <td>...</td>\n      <td>0.120298</td>\n      <td>0.0</td>\n      <td>0.065040</td>\n      <td>0.061267</td>\n      <td>0.0</td>\n      <td>0.067571</td>\n      <td>0.519102</td>\n      <td>0.077403</td>\n      <td>0.000000</td>\n      <td>0.403495</td>\n    </tr>\n    <tr>\n      <th>3</th>\n      <td>TCGA-A8-A07R</td>\n      <td>80</td>\n      <td>STAGE IIIC</td>\n      <td>13.0</td>\n      <td>35.0</td>\n      <td>Breast Invasive Ductal Carcinoma</td>\n      <td>273.0</td>\n      <td>-29251.0</td>\n      <td>NaN</td>\n      <td>NaN</td>\n      <td>...</td>\n      <td>0.042369</td>\n      <td>0.0</td>\n      <td>0.036927</td>\n      <td>0.052592</td>\n      <td>0.0</td>\n      <td>0.039751</td>\n      <td>0.352028</td>\n      <td>0.002378</td>\n      <td>0.097752</td>\n      <td>0.529192</td>\n    </tr>\n    <tr>\n      <th>4</th>\n      <td>TCGA-A8-A07S</td>\n      <td>73</td>\n      <td>STAGE IIA</td>\n      <td>5.0</td>\n      <td>-25.0</td>\n      <td>Breast Invasive Carcinoma (NOS)</td>\n      <td>243.0</td>\n      <td>-26998.0</td>\n      <td>NaN</td>\n      <td>NaN</td>\n      <td>...</td>\n      <td>0.100324</td>\n      <td>0.0</td>\n      <td>0.054141</td>\n      <td>0.062161</td>\n      <td>0.0</td>\n      <td>0.010230</td>\n      <td>0.275265</td>\n      <td>0.151477</td>\n      <td>0.003782</td>\n      <td>0.569475</td>\n    </tr>\n  </tbody>\n</table>\n<p>5 rows × 93 columns</p>\n</div>"
     },
     "execution_count": 24,
     "metadata": {},
     "output_type": "execute_result"
    }
   ],
   "source": [
    "df = pd.read_csv('Dataset/BRCA_TCGA_Tutorial.csv')\n",
    "df.head()"
   ],
   "metadata": {
    "collapsed": false,
    "pycharm": {
     "name": "#%%\n"
    }
   }
  },
  {
   "cell_type": "code",
   "source": [
    "# Look at the categorical and numerical variables\n",
    "summary_categorical = []\n",
    "for column in df.columns:\n",
    "  if df[column].dtype == object:\n",
    "    summary_categorical.append(column)\n",
    "    print(df[column].value_counts())\n",
    "    print(f\"----------------------------------\")\n",
    "\n",
    "summary_numerical = []\n",
    "for column in df.columns:\n",
    "  if df[column].dtype != object:\n",
    "    print(f\"{column} : Minimum: {min((df[column].unique()))}, Maximum: {max((df[column].unique()))} \")\n",
    "    summary_numerical.append(column)\n",
    "    print(f\"----------------------------------\")"
   ],
   "metadata": {
    "collapsed": false,
    "pycharm": {
     "name": "#%%\n"
    }
   },
   "execution_count": 25,
   "outputs": [
    {
     "name": "stdout",
     "output_type": "stream",
     "text": [
      "TCGA-A2-A0CO    1\n",
      "TCGA-A7-A26J    1\n",
      "TCGA-E9-A1RG    1\n",
      "TCGA-LD-A66U    1\n",
      "TCGA-A7-A4SE    1\n",
      "               ..\n",
      "TCGA-BH-A0BL    1\n",
      "TCGA-A2-A0ER    1\n",
      "TCGA-AC-A2FO    1\n",
      "TCGA-BH-A0BZ    1\n",
      "TCGA-B6-A0X0    1\n",
      "Name: ID, Length: 1083, dtype: int64\n",
      "----------------------------------\n",
      "STAGE IIA     354\n",
      "STAGE IIB     255\n",
      "STAGE IIIA    155\n",
      "STAGE I        89\n",
      "STAGE IA       86\n",
      "STAGE IIIC     64\n",
      "STAGE IIIB     28\n",
      "STAGE IV       19\n",
      "STAGE X        14\n",
      "STAGE II        6\n",
      "STAGE IB        6\n",
      "STAGE III       2\n",
      "Name: stage, dtype: int64\n",
      "----------------------------------\n",
      "Breast Invasive Ductal Carcinoma            779\n",
      "Breast Invasive Lobular Carcinoma           201\n",
      "Breast Invasive Carcinoma (NOS)              77\n",
      "Breast Invasive Mixed Mucinous Carcinoma     17\n",
      "Metaplastic Breast Cancer                     8\n",
      "Invasive Breast Carcinoma                     1\n",
      "Name: cancer_type_detailed, dtype: int64\n",
      "----------------------------------\n",
      "0:DiseaseFree            858\n",
      "1:Recurred/Progressed     84\n",
      "Name: Disease Free Status, dtype: int64\n",
      "----------------------------------\n",
      "0:ALIVE OR DEAD TUMOR FREE    980\n",
      "1:DEAD WITH TUMOR              83\n",
      "Name: Disease-specific Survival status, dtype: int64\n",
      "----------------------------------\n",
      "Yes    981\n",
      "No     102\n",
      "Name: In PanCan Pathway Analysis, dtype: int64\n",
      "----------------------------------\n",
      "No     785\n",
      "Yes    100\n",
      "Name: New Neoplasm Event Post Initial Therapy Indicator, dtype: int64\n",
      "----------------------------------\n",
      "IDC       779\n",
      "ILC       201\n",
      "BRCNOS     77\n",
      "IMMC       17\n",
      "MBC         8\n",
      "BRCA        1\n",
      "Name: Oncotree Code, dtype: int64\n",
      "----------------------------------\n",
      "0:LIVING      933\n",
      "1:DECEASED    150\n",
      "Name: Overall Survival Status, dtype: int64\n",
      "----------------------------------\n",
      "M0          894\n",
      "MX          162\n",
      "M1           21\n",
      "CM0 (I+)      6\n",
      "Name: stage_code, dtype: int64\n",
      "----------------------------------\n",
      "N0           329\n",
      "N1A          163\n",
      "N0 (I-)      154\n",
      "N1           123\n",
      "N2A           64\n",
      "N2            55\n",
      "N3A           46\n",
      "N1MI          36\n",
      "N1B           32\n",
      "N0 (I+)       28\n",
      "N3            26\n",
      "NX            20\n",
      "N3B            3\n",
      "N1C            2\n",
      "N3C            1\n",
      "N0 (MOL+)      1\n",
      "Name: Neoplasm Disease Lymph Node Stage American Joint Committee on Cancer Code, dtype: int64\n",
      "----------------------------------\n",
      "T2     626\n",
      "T1C    218\n",
      "T3     136\n",
      "T1      40\n",
      "T4B     27\n",
      "T1B     16\n",
      "T4       9\n",
      "TX       3\n",
      "T4D      3\n",
      "T1A      2\n",
      "T3A      1\n",
      "T2B      1\n",
      "T2A      1\n",
      "Name: tumour_stage, dtype: int64\n",
      "----------------------------------\n",
      "Tumor Free    869\n",
      "With Tumor     91\n",
      "Name: Person Neoplasm Cancer Status, dtype: int64\n",
      "----------------------------------\n",
      "0:CENSORED       937\n",
      "1:PROGRESSION    145\n",
      "Name: Progression Free Status, dtype: int64\n",
      "----------------------------------\n",
      "White                               750\n",
      "Black or African American           182\n",
      "Asian                                60\n",
      "American Indian or Alaska Native      1\n",
      "Name: Race Category, dtype: int64\n",
      "----------------------------------\n",
      "Yes    549\n",
      "No     434\n",
      "Name: Radiation Therapy, dtype: int64\n",
      "----------------------------------\n",
      "Infiltrating Ductal Carcinoma     773\n",
      "Infiltrating Lobular Carcinoma    201\n",
      "Other                              46\n",
      "Mixed Histology (NOS)              30\n",
      "Mucinous Carcinoma                 17\n",
      "Metaplastic Carcinoma               8\n",
      "Medullary Carcinoma                 6\n",
      "Breast Invasive Carcinoma           1\n",
      "Infiltrating Carcinoma (NOS)        1\n",
      "Name: Tumor Type, dtype: int64\n",
      "----------------------------------\n",
      "C2    391\n",
      "C1    367\n",
      "C3    190\n",
      "C4     91\n",
      "C6     40\n",
      "Name: Immune Subtype, dtype: int64\n",
      "----------------------------------\n",
      "BRCA.LumA      505\n",
      "BRCA.LumB      190\n",
      "BRCA.Basal     173\n",
      "BRCA.Normal    139\n",
      "BRCA.Her2       73\n",
      "Name: TCGA Subtype, dtype: int64\n",
      "----------------------------------\n",
      "age : Minimum: 26, Maximum: 90 \n",
      "----------------------------------\n",
      "aneuploidy_score : Minimum: 0.0, Maximum: 35.0 \n",
      "----------------------------------\n",
      "buffa_ hypoxia_score : Minimum: -49.0, Maximum: 47.0 \n",
      "----------------------------------\n",
      "Last Communication Contact from Initial Pathologic Diagnosis Date : Minimum: -31.0, Maximum: 8605.0 \n",
      "----------------------------------\n",
      "Birth from Initial Pathologic Diagnosis Date : Minimum: -32873.0, Maximum: -9706.0 \n",
      "----------------------------------\n",
      "Disease Free (Months) : Minimum: nan, Maximum: nan \n",
      "----------------------------------\n",
      "Months of disease-specific survival : Minimum: 0.0, Maximum: 282.9010093 \n",
      "----------------------------------\n",
      "Fraction Genome Altered : Minimum: 0.0, Maximum: 0.9971 \n",
      "----------------------------------\n",
      "MSI MANTIS Score : Minimum: 0.217, Maximum: 0.8283 \n",
      "----------------------------------\n",
      "MSIsensor Score : Minimum: 0.0, Maximum: 32.92 \n",
      "----------------------------------\n",
      "Mutation Count : Minimum: nan, Maximum: nan \n",
      "----------------------------------\n",
      "Overall Survival (Months) : Minimum: 0.0, Maximum: 282.9010093 \n",
      "----------------------------------\n",
      "Progress Free Survival (Months) : Minimum: 0.0, Maximum: 281.2900681 \n",
      "----------------------------------\n",
      "Ragnum Hypoxia Score : Minimum: -24.0, Maximum: 30.0 \n",
      "----------------------------------\n",
      "TMB (nonsynonymous) : Minimum: 0.0, Maximum: 180.8333333 \n",
      "----------------------------------\n",
      "Winter Hypoxia Score : Minimum: -72.0, Maximum: 78.0 \n",
      "----------------------------------\n",
      "Leukocyte Fraction : Minimum: 0.019201814, Maximum: 0.879216303 \n",
      "----------------------------------\n",
      "Stromal Fraction : Minimum: 0.0, Maximum: 0.91 \n",
      "----------------------------------\n",
      "Intratumor Heterogeneity : Minimum: 0.0, Maximum: 0.96 \n",
      "----------------------------------\n",
      "TIL Regional Fraction : Minimum: 0.0, Maximum: 39.00470918 \n",
      "----------------------------------\n",
      "Proliferation : Minimum: -2.2639, Maximum: 1.4708 \n",
      "----------------------------------\n",
      "Wound Healing : Minimum: -0.4005, Maximum: 0.536 \n",
      "----------------------------------\n",
      "Macrophage Regulation : Minimum: -1.9126, Maximum: 1.8804 \n",
      "----------------------------------\n",
      "Lymphocyte Infiltration Signature Score : Minimum: -2.9971, Maximum: 3.8104 \n",
      "----------------------------------\n",
      "IFN-gamma Response : Minimum: -2.1844, Maximum: 3.0649 \n",
      "----------------------------------\n",
      "TGF-beta Response : Minimum: -1.0072, Maximum: 1.162 \n",
      "----------------------------------\n",
      "SNV Neoantigens : Minimum: nan, Maximum: nan \n",
      "----------------------------------\n",
      "Indel Neoantigens : Minimum: nan, Maximum: nan \n",
      "----------------------------------\n",
      "Silent Mutation Rate : Minimum: 0.0, Maximum: 36.18135165 \n",
      "----------------------------------\n",
      "Nonsilent Mutation Rate : Minimum: 0.0, Maximum: 151.4675821 \n",
      "----------------------------------\n",
      "Number of Segments : Minimum: 25.0, Maximum: 1678.0 \n",
      "----------------------------------\n",
      "Fraction Altered : Minimum: 4.86e-07, Maximum: 1.0 \n",
      "----------------------------------\n",
      "Aneuploidy Score : Minimum: 0.0, Maximum: 31.0 \n",
      "----------------------------------\n",
      "Homologous Recombination Defects : Minimum: 0.0, Maximum: 89.0 \n",
      "----------------------------------\n",
      "BCR Evenness : Minimum: 0.12691169, Maximum: 1.0 \n",
      "----------------------------------\n",
      "BCR Shannon : Minimum: 0.0, Maximum: 5.276811952 \n",
      "----------------------------------\n",
      "BCR Richness : Minimum: 1.0, Maximum: 477.0 \n",
      "----------------------------------\n",
      "TCR Shannon : Minimum: 0.0, Maximum: 6.4268297 \n",
      "----------------------------------\n",
      "TCR Richness : Minimum: 0.0, Maximum: 708.0 \n",
      "----------------------------------\n",
      "TCR Evenness : Minimum: 0.717335695, Maximum: 1.0 \n",
      "----------------------------------\n",
      "CTA Score : Minimum: 0.273943815, Maximum: 6.753499717 \n",
      "----------------------------------\n",
      "Th1 Cells : Minimum: -2537.985488, Maximum: 979.3127955 \n",
      "----------------------------------\n",
      "Th2 Cells : Minimum: -991.3265271, Maximum: 2544.870992 \n",
      "----------------------------------\n",
      "Th17 Cells : Minimum: -4179.342666, Maximum: 4918.606819 \n",
      "----------------------------------\n",
      "OS : Minimum: 0.0, Maximum: 1.0 \n",
      "----------------------------------\n",
      "OS Time : Minimum: 0.0, Maximum: 8605.0 \n",
      "----------------------------------\n",
      "PFI : Minimum: 0.0, Maximum: 1.0 \n",
      "----------------------------------\n",
      "PFI Time : Minimum: 0.0, Maximum: 8556.0 \n",
      "----------------------------------\n",
      "B Cells Memory : Minimum: 0.0, Maximum: 0.184780236 \n",
      "----------------------------------\n",
      "B Cells Naive : Minimum: 0.0, Maximum: 0.29621549 \n",
      "----------------------------------\n",
      "Dendritic Cells Activated : Minimum: 0.0, Maximum: 0.271141728 \n",
      "----------------------------------\n",
      "Dendritic Cells Resting : Minimum: 0.0, Maximum: 0.273055527 \n",
      "----------------------------------\n",
      "Eosinophils : Minimum: 0.0, Maximum: 0.036861229 \n",
      "----------------------------------\n",
      "Macrophages M0 : Minimum: 0.0, Maximum: 0.717053182 \n",
      "----------------------------------\n",
      "Macrophages M1 : Minimum: 0.0, Maximum: 0.315832673 \n",
      "----------------------------------\n",
      "Macrophages M2 : Minimum: 0.0, Maximum: 0.712646493 \n",
      "----------------------------------\n",
      "Mast Cells Activated : Minimum: 0.0, Maximum: 0.267438756 \n",
      "----------------------------------\n",
      "Mast Cells Resting : Minimum: 0.0, Maximum: 0.59538828 \n",
      "----------------------------------\n",
      "Monocytes : Minimum: 0.0, Maximum: 0.148963229 \n",
      "----------------------------------\n",
      "Neutrophils : Minimum: 0.0, Maximum: 0.102323804 \n",
      "----------------------------------\n",
      "NK Cells Activated : Minimum: 0.0, Maximum: 0.169463425 \n",
      "----------------------------------\n",
      "NK Cells Resting : Minimum: 0.0, Maximum: 0.104052529 \n",
      "----------------------------------\n",
      "Plasma Cells : Minimum: 0.0, Maximum: 0.422782436 \n",
      "----------------------------------\n",
      "T Cells CD4 Memory Activated : Minimum: 0.0, Maximum: 0.105684178 \n",
      "----------------------------------\n",
      "T Cells CD4 Memory Resting : Minimum: 0.0, Maximum: 0.385863338 \n",
      "----------------------------------\n",
      "T Cells CD4 Naive : Minimum: 0.0, Maximum: 0.136186446 \n",
      "----------------------------------\n",
      "T Cells CD8 : Minimum: 0.0, Maximum: 0.351968928 \n",
      "----------------------------------\n",
      "T Cells Follicular Helper : Minimum: 0.0, Maximum: 0.299624776 \n",
      "----------------------------------\n",
      "T Cells gamma delta : Minimum: 0.0, Maximum: 0.103584168 \n",
      "----------------------------------\n",
      "T Cells Regulatory Tregs : Minimum: 0.0, Maximum: 0.153410728 \n",
      "----------------------------------\n",
      "Lymphocytes : Minimum: 0.033231768, Maximum: 0.874765398 \n",
      "----------------------------------\n",
      "Mast Cells : Minimum: 0.0, Maximum: 0.59538828 \n",
      "----------------------------------\n",
      "Dendritic Cells : Minimum: 0.0, Maximum: 0.296761808 \n",
      "----------------------------------\n",
      "Macrophages : Minimum: 0.068973057, Maximum: 0.861945552 \n",
      "----------------------------------\n"
     ]
    }
   ]
  },
  {
   "cell_type": "code",
   "execution_count": 22,
   "outputs": [
    {
     "data": {
      "text/plain": "0       0\n1       0\n2       0\n3       0\n4       0\n       ..\n1078    0\n1079    0\n1080    0\n1081    0\n1082    2\nName: Disease-specific Survival status, Length: 1083, dtype: int64"
     },
     "execution_count": 22,
     "metadata": {},
     "output_type": "execute_result"
    }
   ],
   "source": [
    "# Convert all string categorical variables into integer labels\n",
    "encoder = LabelEncoder()\n",
    "for column in df.columns:\n",
    "  if df[column].dtype == object:\n",
    "    df[column] = encoder.fit_transform(df[column])"
   ],
   "metadata": {
    "collapsed": false,
    "pycharm": {
     "name": "#%%\n"
    }
   }
  },
  {
   "cell_type": "markdown",
   "source": [
    "# Kaplan-Meier Estimator"
   ],
   "metadata": {
    "collapsed": false,
    "pycharm": {
     "name": "#%% md\n"
    }
   }
  },
  {
   "cell_type": "code",
   "execution_count": 40,
   "outputs": [],
   "source": [
    "# here to specify which event we will make our study about OS or PFS etc.\n",
    "event = 'OS'\n",
    "time = 'OS Time'"
   ],
   "metadata": {
    "collapsed": false,
    "pycharm": {
     "name": "#%%\n"
    }
   }
  },
  {
   "cell_type": "code",
   "execution_count": 41,
   "outputs": [
    {
     "data": {
      "text/plain": "<Figure size 800x500 with 1 Axes>",
      "image/png": "[encoded data removed]"
     },
     "metadata": {},
     "output_type": "display_data"
    },
    {
     "data": {
      "text/plain": "<Figure size 800x500 with 1 Axes>",
      "image/png": "[encoded data removed]"
     },
     "metadata": {},
     "output_type": "display_data"
    }
   ],
   "source": [
    "# remove the rows with NaNs\n",
    "df_os = df.dropna(subset=[event, time])\n",
    "\n",
    "from lifelines import KaplanMeierFitter\n",
    "\n",
    "kmf = KaplanMeierFitter()\n",
    "kmf.fit(durations=df_os[time], event_observed=df_os[event])\n",
    "\n",
    "kmf.survival_function_.plot(figsize=(8,5))\n",
    "plt.title('Survival Curve estimated with Kaplan-Meier Fitter')\n",
    "plt.show()\n",
    "\n",
    "kmf.plot_survival_function(figsize=(8,5))\n",
    "plt.title('Survival Curve estimated with Kaplan-Meier Fitter with confidence intervals')\n",
    "plt.show()"
   ],
   "metadata": {
    "collapsed": false,
    "pycharm": {
     "name": "#%%\n"
    }
   }
  },
  {
   "cell_type": "code",
   "execution_count": 38,
   "outputs": [
    {
     "data": {
      "text/plain": "          KM_estimate\ntimeline             \n0.0          1.000000\n1.0          1.000000\n5.0          1.000000\n7.0          1.000000\n8.0          1.000000\n...               ...\n7777.0       0.283785\n8008.0       0.283785\n8391.0       0.283785\n8556.0       0.283785\n8605.0       0.283785\n\n[822 rows x 1 columns]",
      "text/html": "<div>\n<style scoped>\n    .dataframe tbody tr th:only-of-type {\n        vertical-align: middle;\n    }\n\n    .dataframe tbody tr th {\n        vertical-align: top;\n    }\n\n    .dataframe thead th {\n        text-align: right;\n    }\n</style>\n<table border=\"1\" class=\"dataframe\">\n  <thead>\n    <tr style=\"text-align: right;\">\n      <th></th>\n      <th>KM_estimate</th>\n    </tr>\n    <tr>\n      <th>timeline</th>\n      <th></th>\n    </tr>\n  </thead>\n  <tbody>\n    <tr>\n      <th>0.0</th>\n      <td>1.000000</td>\n    </tr>\n    <tr>\n      <th>1.0</th>\n      <td>1.000000</td>\n    </tr>\n    <tr>\n      <th>5.0</th>\n      <td>1.000000</td>\n    </tr>\n    <tr>\n      <th>7.0</th>\n      <td>1.000000</td>\n    </tr>\n    <tr>\n      <th>8.0</th>\n      <td>1.000000</td>\n    </tr>\n    <tr>\n      <th>...</th>\n      <td>...</td>\n    </tr>\n    <tr>\n      <th>7777.0</th>\n      <td>0.283785</td>\n    </tr>\n    <tr>\n      <th>8008.0</th>\n      <td>0.283785</td>\n    </tr>\n    <tr>\n      <th>8391.0</th>\n      <td>0.283785</td>\n    </tr>\n    <tr>\n      <th>8556.0</th>\n      <td>0.283785</td>\n    </tr>\n    <tr>\n      <th>8605.0</th>\n      <td>0.283785</td>\n    </tr>\n  </tbody>\n</table>\n<p>822 rows × 1 columns</p>\n</div>"
     },
     "execution_count": 38,
     "metadata": {},
     "output_type": "execute_result"
    }
   ],
   "source": [
    "# here is to show the KM estimated survival scores based on OS\n",
    "kmf.survival_function_"
   ],
   "metadata": {
    "collapsed": false,
    "pycharm": {
     "name": "#%%\n"
    }
   }
  },
  {
   "cell_type": "markdown",
   "source": [
    "# 1. Bootstrap Resampling"
   ],
   "metadata": {
    "collapsed": false,
    "pycharm": {
     "name": "#%% md\n"
    }
   }
  },
  {
   "cell_type": "markdown",
   "source": [
    "### 1.1 Basics of survival analysis"
   ],
   "metadata": {
    "collapsed": false
   }
  },
  {
   "cell_type": "code",
   "execution_count": null,
   "outputs": [],
   "source": [],
   "metadata": {
    "collapsed": false,
    "pycharm": {
     "name": "#%%\n"
    }
   }
  },
  {
   "cell_type": "markdown",
   "source": [
    "### 1.2 Kaplan-Meier"
   ],
   "metadata": {
    "collapsed": false
   }
  },
  {
   "cell_type": "markdown",
   "source": [
    "### 1.3 Log-Rank Test"
   ],
   "metadata": {
    "collapsed": false,
    "pycharm": {
     "name": "#%% md\n"
    }
   }
  },
  {
   "cell_type": "markdown",
   "source": [
    "### 1.4 Cox Regression"
   ],
   "metadata": {
    "collapsed": false,
    "pycharm": {
     "name": "#%% md\n"
    }
   }
  },
  {
   "cell_type": "markdown",
   "source": [
    "# Crossvalidation (K-Folds)"
   ],
   "metadata": {
    "collapsed": false,
    "pycharm": {
     "name": "#%% md\n"
    }
   }
  },
  {
   "cell_type": "markdown",
   "source": [
    "# Cross-validation (Stratified k-folds)"
   ],
   "metadata": {
    "collapsed": false,
    "pycharm": {
     "name": "#%% md\n"
    }
   }
  }
 ]
}